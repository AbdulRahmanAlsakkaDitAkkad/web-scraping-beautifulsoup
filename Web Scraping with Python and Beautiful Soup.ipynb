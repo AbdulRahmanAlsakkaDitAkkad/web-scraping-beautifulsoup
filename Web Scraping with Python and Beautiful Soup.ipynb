{
 "cells": [
  {
   "cell_type": "code",
   "execution_count": 1,
   "id": "33de97af",
   "metadata": {},
   "outputs": [
    {
     "name": "stdout",
     "output_type": "stream",
     "text": [
      "Collecting bs4\n",
      "  Downloading bs4-0.0.2-py2.py3-none-any.whl (1.2 kB)\n",
      "Requirement already satisfied: beautifulsoup4 in c:\\users\\dell\\anaconda3\\lib\\site-packages (from bs4) (4.11.1)\n",
      "Requirement already satisfied: soupsieve>1.2 in c:\\users\\dell\\anaconda3\\lib\\site-packages (from beautifulsoup4->bs4) (2.3.1)\n",
      "Installing collected packages: bs4\n",
      "Successfully installed bs4-0.0.2\n",
      "Note: you may need to restart the kernel to use updated packages.\n"
     ]
    }
   ],
   "source": [
    "pip install bs4"
   ]
  },
  {
   "cell_type": "code",
   "execution_count": 106,
   "id": "8f58530b",
   "metadata": {},
   "outputs": [],
   "source": [
    "from urllib.request import urlopen as uReq\n",
    "from bs4 import BeautifulSoup as soup"
   ]
  },
  {
   "cell_type": "code",
   "execution_count": 114,
   "id": "d9a29a06",
   "metadata": {},
   "outputs": [],
   "source": [
    "my_url = 'https://www.newegg.com/p/pl?d=graphics+card'"
   ]
  },
  {
   "cell_type": "markdown",
   "id": "1e34f5a6",
   "metadata": {},
   "source": [
    "## Opening up connection, grabbing the page"
   ]
  },
  {
   "cell_type": "code",
   "execution_count": 115,
   "id": "b08d61a0",
   "metadata": {},
   "outputs": [],
   "source": [
    "uClient = uReq(my_url)"
   ]
  },
  {
   "cell_type": "code",
   "execution_count": 116,
   "id": "6478fbf1",
   "metadata": {},
   "outputs": [],
   "source": [
    "page_html = uClient.read()"
   ]
  },
  {
   "cell_type": "code",
   "execution_count": 117,
   "id": "78522c9d",
   "metadata": {},
   "outputs": [],
   "source": [
    "uClient.close()"
   ]
  },
  {
   "cell_type": "markdown",
   "id": "15f876af",
   "metadata": {},
   "source": [
    "## HTML parsing"
   ]
  },
  {
   "cell_type": "code",
   "execution_count": 118,
   "id": "1bbd392b",
   "metadata": {},
   "outputs": [],
   "source": [
    "page_soup = soup(page_html, 'html.parser')"
   ]
  },
  {
   "cell_type": "markdown",
   "id": "9f6d9fb5",
   "metadata": {},
   "source": [
    "## Grabs each product"
   ]
  },
  {
   "cell_type": "code",
   "execution_count": 119,
   "id": "e7558b15",
   "metadata": {},
   "outputs": [],
   "source": [
    "containers = page_soup.findAll('div',{'class','item-container position-relative'})"
   ]
  },
  {
   "cell_type": "code",
   "execution_count": 120,
   "id": "704c3c12",
   "metadata": {},
   "outputs": [
    {
     "data": {
      "text/plain": [
       "30"
      ]
     },
     "execution_count": 120,
     "metadata": {},
     "output_type": "execute_result"
    }
   ],
   "source": [
    "filename = 'product.csv'\n",
    "f = open(filename, 'w')\n",
    "headers = 'brand, product_name, shipping\\n'\n",
    "f.write(headers)"
   ]
  },
  {
   "cell_type": "code",
   "execution_count": 122,
   "id": "32bafe65",
   "metadata": {},
   "outputs": [
    {
     "name": "stdout",
     "output_type": "stream",
     "text": [
      "brand: ASRock\n",
      "product_name: ASRock Radeon RX 6600 Challenger D 8GB GDDR6 PCI Express 4.0 Graphics Card RX6600 CLD 8G\n",
      "shipping: Free Shipping\n",
      "brand: MSI\n",
      "product_name: MSI Ventus GeForce RTX 3060 12GB GDDR6 PCI Express 4.0 Graphics Card RTX 3060 Ventus 2X 12G OC\n",
      "shipping: Free Shipping\n",
      "brand: N/A\n",
      "product_name: Peladn Gaming RTX 3070 8G Graphics Card GDDR6 RGB Lighting PCI Express 4.0 Video Card Triple-fan Edition\n",
      "shipping: Free Shipping\n",
      "brand: ASUS\n",
      "product_name: ASUS ROG Strix GeForce RTX 4070 SUPER Gaming Graphics Card (PCIe 4.0, 12GB GDDR6X, DLSS 3, HDMI 2.1a, DisplayPort 1.4a, Aura Sync) ROG-STRIX-RTX4070S-12G-GAMING\n",
      "shipping: Free Shipping\n",
      "brand: GIGABYTE\n",
      "product_name: GIGABYTE Gaming Radeon RX 9070 XT 16GB GDDR6 PCI Express 5.0 x16 Graphics Card GV-R9070XTGAMING OC-16GD\n",
      "shipping: Free Shipping\n",
      "brand: N/A\n",
      "product_name: Peladn Gaming RTX 3060 12G Graphics Card GDDR6 PCI Express 4.0 Video Card Dual-fan Edition\n",
      "shipping: Free Shipping\n",
      "brand: ASUS\n",
      "product_name: ASUS ROG Astral GeForce RTX 5080 16GB GDDR7 OC Edition ROG-ASTRAL-RTX5080-O16G-GAMING PCI-Express 5.0 DLSS 4.0 Graphics Card\n",
      "shipping: Free Shipping\n",
      "brand: MSI\n",
      "product_name: MSI Ventus GeForce RTX 4060 8GB GDDR6 PCI Express 4.0 x8 ATX Graphics Card RTX 4060 VENTUS 2X BLACK 8G OC\n",
      "shipping: $12.99 Shipping\n",
      "brand: MSI\n",
      "product_name: Refurbished MSI Ventus GeForce RTX 3070 Ti 8GB GDDR6X PCI Express 4.0 Video Card RTX 3070 Ti Ventus 3X 8G OC\n",
      "shipping: Free Shipping\n",
      "brand: GIGABYTE\n",
      "product_name: GIGABYTE Gaming GeForce RTX 5060 Ti 16GB GDDR7 PCI Express 5.0 x8 ATX Graphics Card GV-N506TGAMING OC-16GD\n",
      "shipping: $9.99 Shipping\n",
      "brand: Sapphire Tech\n",
      "product_name: SAPPHIRE Radeon RX 7900 XT 20GB GDDR6 PCI Express 4.0 Video Card 21323-01-20G\n",
      "shipping: Free Shipping\n",
      "brand: ZOTAC\n",
      "product_name: ZOTAC GeForce RTX 4070-12GD6X Moon White OC Graphics Card, Gaming, AI Design, Video Editing, 3D Rendering, 3 x DP, 1 x HDMI, 12GB GDDR6X, 192-bit, Express 4.0 16x, 2490MHz, 21 Gbps\n",
      "shipping: Free Shipping\n",
      "brand: GIGABYTE\n",
      "product_name: GIGABYTE WindForce GeForce RTX 5060 Ti 16GB GDDR7 PCI Express 5.0 x8 ATX Graphics Card GV-N506TWF2OC-16GD\n",
      "shipping: $9.99 Shipping\n",
      "brand: GIGABYTE\n",
      "product_name: GIGABYTE Radeon RX 7800 XT GAMING OC 16G Graphics Card, 3x WINDFORCE Fans 16GB 256-bit GDDR6, GV-R78XTGAMING OC-16GD Video Card\n",
      "shipping: Free Shipping\n",
      "brand: N/A\n",
      "product_name: SRhonyra AMD Radeon RX 550 2 HDMI Dual Monitors Video Card Low Profile Graphics Card Single Slot 4G GDDR5 PCIE 3.0 8X ,16X Compatible low profile gpu SFF gpu\n",
      "shipping: Free Shipping\n",
      "brand: Sapphire Tech\n",
      "product_name: SAPPHIRE NITRO+ Radeon RX 7900 XTX 24GB GDDR6 PCI Express 4.0 x16 ATX Video Card 11322-01-40G\n",
      "shipping: Free Shipping\n",
      "brand: GIGABYTE\n",
      "product_name: GIGABYTE WindForce GeForce RTX 5060 Ti 16GB GDDR7 PCI Express 5.0 x8 ATX Graphics Card GV-N506TWF2-16GD\n",
      "shipping: $9.99 Shipping\n",
      "brand: N/A\n",
      "product_name: Yeston Radeon RX 550 4GB GDDR5 1183MHz 512processors PCIExpress 3.0 DirectX12 video cards Double slot DP+HDMI compatible +DVI-D graphics card of Desktop\n",
      "shipping: Free Shipping\n",
      "brand: ZOTAC\n",
      "product_name: ZOTAC Twin Edge GeForce RTX 5060 Ti 16GB 128-Bit GDDR7 PCI Express 5.0 x8 DLSS 4.0 Graphics Card ZT-B50620E-10M\n",
      "shipping: $9.99 Shipping\n",
      "brand: ASUS\n",
      "product_name: ASUS TUF Gaming GeForce RTX 5070 Ti OC Edition 16GB GDDR7 TUF-RTX5070TI-O16G-GAMING PCI-Express 5.0 DLSS 4.0 Graphics Card\n",
      "shipping: $12.99 Shipping\n",
      "brand: N/A\n",
      "product_name: GUNNIR Intel Arc A770 Photon 16GB OC GDDR6 2400MHz Triple Fan White Graphics Card (256-bit, PCIe 4.0, HDMI/DisplayPort, Supports 4k)\n",
      "shipping: $30.00 Shipping\n",
      "brand: ASUS\n",
      "product_name: ASUS TUF Gaming GeForce RTX 5070 OC 12GB 192-Bit GDDR7 PCI Express 5.0 DLSS 4.0 Graphics Card TUF-RTX5070-O12G-GAMING\n",
      "shipping: $12.99 Shipping\n",
      "brand: MSI\n",
      "product_name: MSI VANGUARD GeForce RTX 5060 Ti 16GB GDDR7 PCI Express 5.0 x 16 (use x8) Graphics Card RTX 5060 Ti 16G VANGUARD SOC\n",
      "shipping: $9.99 Shipping\n",
      "brand: N/A\n",
      "product_name: Yeston Radeon RX 7800 XT 16GD6 GDDR6  video cards Desktop computer PC Video Graphics Cards support PCI-Express 4.0 3*DP+1*HDMI-compatible RGB light effect Fragrant graphics card RX 7800XT\n",
      "shipping: $12.93 Shipping\n",
      "brand: ASUS\n",
      "product_name: ASUS TUF Gaming GeForce RTX 5080 16GB GDDR7 OC Edition TUF-RTX5080-O16G-GAMING PCI-Express 5.0 DLSS 4.0 Graphics Card\n",
      "shipping: Free Shipping\n",
      "brand: MSI\n",
      "product_name: MSI Gaming GeForce RTX 5060 Ti 16GB GDDR7 PCI Express 5.0 x 16 (use x8) Graphics Card RTX 5060 Ti 16G GAMING TRIO OC\n",
      "shipping: $9.99 Shipping\n",
      "brand: N/A\n",
      "product_name: Yeston Radeon RX 7800 XT 16GD6 GDDR6  video cards Desktop computer PC Video Graphics Cards support PCI-Express 4.0 3*DP+1*HDMI-compatible RGB light effect Fragrant graphics card RX 7800XT\n",
      "shipping: $12.93 Shipping\n",
      "brand: MSI\n",
      "product_name: MSI Ventus GeForce RTX 5070 Ti 16GB GDDR7 PCI Express 5.0 Graphics Card RTX 5070 TI 16G VENTUS 3X OC\n",
      "shipping: $12.99 Shipping\n",
      "brand: GIGABYTE\n",
      "product_name: GIGABYTE Gaming GeForce RTX 5070 Ti 16GB GDDR7 PCI Express 5.0 ATX Graphics Card GV-N507TGAMING OC-16GD\n",
      "shipping: $9.99 Shipping\n",
      "brand: MSI\n",
      "product_name: MSI Ventus GeForce RTX 3050 6GB GDDR6 PCI Express 4.0 x8 ATX Graphics Card RTX 3050 VENTUS 2X 6G OC\n",
      "shipping: Free Shipping\n",
      "brand: GIGABYTE\n",
      "product_name: GIGABYTE GeForce RTX 4080 SUPER WINDFORCE V2 16G Graphics Card, 3x WINDFORCE Fans, 16GB 256-bit GDDR6X, GV-N408SWF3V2-16GD Video Card\n",
      "shipping: Free Shipping\n",
      "brand: GIGABYTE\n",
      "product_name: GIGABYTE Radeon RX 7700 XT GAMING OC 12G Graphics Card, 3x WINDFORCE Fans 12GB 192-bit GDDR6, GV-R77XTGAMING OC-12GD Video Card\n",
      "shipping: Free Shipping\n",
      "brand: GIGABYTE\n",
      "product_name: GIGABYTE GeForce RTX 4070 SUPER WINDFORCE OC 12G Graphics Card, 3x WINDFORCE Fans, 12GB 192-bit GDDR6X, GV-N407SWF3OC-12GD  Video Card\n",
      "shipping: Free Shipping\n",
      "brand: GIGABYTE\n",
      "product_name: GIGABYTE GeForce RTX 4070 WINDFORCE OC V2 12GB GDDR6 PCI Express 4.0 x16 ATX Graphics Card GV-N4070WF3OCV2-12GD\n",
      "shipping: Free Shipping\n",
      "brand: MSI\n",
      "product_name: MSI SHADOW GeForce RTX 5070 12GB GDDR7 PCI Express 5.0 Graphics Card RTX 5070 12G SHADOW 3X OC\n",
      "shipping: Free Shipping\n",
      "brand: ZOTAC\n",
      "product_name: ZOTAC Solid OC GeForce RTX 5070 12GB 192-Bit GDDR7 PCI Express 5.0 DLSS 4.0 Graphics Card ZOTAC GAMING ZT-B50700J-10P\n",
      "shipping: Free Shipping\n",
      "brand: GIGABYTE\n",
      "product_name: GIGABYTE Gaming GeForce RTX 5080 16GB GDDR7 PCI Express 5.0 Graphics Card GV-N5080GAMING OC-16GD\n",
      "shipping: $12.99 Shipping\n",
      "brand: ASUS\n",
      "product_name: ASUS TUF Gaming NVIDIA GeForce RTX 4070 Ti SUPER OC Edition Gaming Graphics Card (PCIe 4.0, 16GB GDDR6X, HDMI 2.1a, DisplayPort 1.4a) TUF-RTX4070TIS-O16G-GAMING\n",
      "shipping: Free Shipping\n",
      "brand: ASRock\n",
      "product_name: ASRock Steel Legend Radeon RX 9070 XT 16GB GDDR6 PCI Express 5.0 x16 Graphics Card RX9070XT SL 16G\n",
      "shipping: Free Shipping\n",
      "brand: Sapphire Tech\n",
      "product_name: SAPPHIRE PULSE Radeon RX 9070 XT 16GB GDDR6 PCI Express 5.0 x16 ATX Graphics Card 11348-03-20G\n",
      "shipping: $12.99 Shipping\n",
      "brand: ASRock\n",
      "product_name: ASRock Phantom Gaming Radeon RX 7900 XTX 24GB GDDR6 PCI Express 4.0 ATX Graphics Card RX7900XTX PG 24GO\n",
      "shipping: Free Shipping\n",
      "brand: GIGABYTE\n",
      "product_name: GIGABYTE AERO GeForce RTX 5070 Ti 16GB GDDR7 PCI Express 5.0 ATX Graphics Card GV-N507TAERO OC-16GD\n",
      "shipping: $9.99 Shipping\n",
      "brand: MSI\n",
      "product_name: MSI EXPERT GeForce RTX 4080 SUPER 16GB GDDR6X PCI Express 4.0 Video Card RTX 4080 SUPER 16G EXPERT\n",
      "shipping: Free Shipping\n",
      "brand: GIGABYTE\n",
      "product_name: GIGABYTE WINDFORCE GeForce RTX 3050 6GB GDDR6 PCI Express 4.0 x8 ATX Graphics Card GV-N3050WF2OCV2-6GD\n",
      "shipping: Free Shipping\n"
     ]
    }
   ],
   "source": [
    "for container in containers:\n",
    "    brand_tag = container.find('a', {'class': 'item-brand'})\n",
    "    brand = brand_tag.find('img')['title'] if brand_tag else 'N/A'\n",
    "    title_container = container.findAll('a',{'class':'item-title'})\n",
    "    product_name = title_container[0].text\n",
    "    \n",
    "    shipping_container = container.findAll('li', {'class': 'price-ship'})\n",
    "    shipping = shipping_container[0].text\n",
    "    \n",
    "    print(\"brand: \"+ brand)\n",
    "    print('product_name: '+ product_name)\n",
    "    print('shipping: '+ shipping)\n",
    "    \n",
    "    f.write(brand + ',' + product_name.replace(',', '|') + ',' + shipping +'\\n')\n",
    "f.close()"
   ]
  }
 ],
 "metadata": {
  "kernelspec": {
   "display_name": "Python 3 (ipykernel)",
   "language": "python",
   "name": "python3"
  },
  "language_info": {
   "codemirror_mode": {
    "name": "ipython",
    "version": 3
   },
   "file_extension": ".py",
   "mimetype": "text/x-python",
   "name": "python",
   "nbconvert_exporter": "python",
   "pygments_lexer": "ipython3",
   "version": "3.9.13"
  }
 },
 "nbformat": 4,
 "nbformat_minor": 5
}
